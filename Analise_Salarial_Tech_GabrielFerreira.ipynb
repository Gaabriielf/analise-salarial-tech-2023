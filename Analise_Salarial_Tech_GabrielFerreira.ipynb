{
 "cells": [
  {
   "cell_type": "markdown",
   "id": "3ff0f536",
   "metadata": {},
   "source": [
    "# 📊 Análise Salarial 2023 – Profissionais Tech\n",
    "**Autor:** Gabriel dos Santos Ferreira  \n",
    "**LinkedIn:** [Gabriel Ferreira](https://www.linkedin.com/in/gabriel-ferreira-384648181)\n",
    "\n",
    "Este notebook realiza uma análise exploratória (EDA) com base em dados reais sobre cargos e salários no setor de tecnologia."
   ]
  },
  {
   "cell_type": "code",
   "execution_count": null,
   "id": "73cb4ab5",
   "metadata": {},
   "outputs": [],
   "source": [
    "import pandas as pd\n",
    "import matplotlib.pyplot as plt\n",
    "import seaborn as sns\n",
    "\n",
    "plt.style.use('ggplot')\n",
    "sns.set_theme()\n",
    "\n",
    "# Carregar o dataset (ajustar caminho se necessário)\n",
    "df = pd.read_csv('salaries.csv')"
   ]
  },
  {
   "cell_type": "markdown",
   "id": "04d9c4fd",
   "metadata": {},
   "source": [
    "## 🔍 Diagnóstico Inicial dos Dados"
   ]
  },
  {
   "cell_type": "code",
   "execution_count": null,
   "id": "be408662",
   "metadata": {},
   "outputs": [],
   "source": [
    "df.info()\n",
    "df.describe()\n",
    "df.isnull().sum()"
   ]
  },
  {
   "cell_type": "markdown",
   "id": "5e96e1bb",
   "metadata": {},
   "source": [
    "## 🌐 Criação de Versão Bilíngue dos Dados"
   ]
  },
  {
   "cell_type": "code",
   "execution_count": null,
   "id": "3f31ced1",
   "metadata": {},
   "outputs": [],
   "source": [
    "colunas_traducao = {\n",
    "    'work_year': 'ano_base',\n",
    "    'experience_level': 'nivel_experiencia',\n",
    "    'employment_type': 'tipo_contratacao',\n",
    "    'job_title': 'cargo',\n",
    "    'salary': 'salario_bruto',\n",
    "    'salary_currency': 'moeda_salario',\n",
    "    'salary_in_usd': 'salario_usd',\n",
    "    'employee_residence': 'residencia_funcionario',\n",
    "    'remote_ratio': 'percentual_remoto',\n",
    "    'company_location': 'local_empresa',\n",
    "    'company_size': 'porte_empresa'\n",
    "}\n",
    "\n",
    "df_pt = df.copy()\n",
    "df_pt.rename(columns=colunas_traducao, inplace=True)\n",
    "df_pt['nivel_experiencia'] = df_pt['nivel_experiencia'].map({'EN': 'Júnior', 'SE': 'Sênior', 'MI': 'Pleno', 'EX': 'Executivo'})\n",
    "df_pt['tipo_contratacao'] = df_pt['tipo_contratacao'].map({'FT': 'Integral', 'PT': 'Meio período', 'CT': 'Contrato', 'FL': 'Freelancer'})\n",
    "df_pt['porte_empresa'] = df_pt['porte_empresa'].map({'S': 'Pequena', 'M': 'Média', 'L': 'Grande'})"
   ]
  },
  {
   "cell_type": "markdown",
   "id": "f959c82c",
   "metadata": {},
   "source": [
    "## 📊 Visualizações Iniciais (EDA)"
   ]
  },
  {
   "cell_type": "code",
   "execution_count": null,
   "id": "08546834",
   "metadata": {},
   "outputs": [],
   "source": [
    "plt.figure(figsize=(10,5))\n",
    "sns.histplot(df['salary_in_usd'], bins=40, kde=True)\n",
    "plt.title(\"Distribuição Salarial (USD)\")\n",
    "plt.xlabel(\"Salário em USD\")\n",
    "plt.ylabel(\"Frequência\")\n",
    "plt.tight_layout()\n",
    "plt.show()"
   ]
  },
  {
   "cell_type": "code",
   "execution_count": null,
   "id": "d3fc76cc",
   "metadata": {},
   "outputs": [],
   "source": [
    "plt.figure(figsize=(8,5))\n",
    "sns.boxplot(data=df, x='experience_level', y='salary_in_usd', order=['EN','MI','SE','EX'])\n",
    "plt.title(\"Salário por Nível de Experiência\")\n",
    "plt.xlabel(\"Nível de Experiência\")\n",
    "plt.ylabel(\"Salário em USD\")\n",
    "plt.tight_layout()\n",
    "plt.show()"
   ]
  },
  {
   "cell_type": "markdown",
   "id": "05f92a76",
   "metadata": {},
   "source": [
    "## 📌 Conclusões e Relevância Profissional\n",
    "**1.** A distribuição de salários apresenta forte assimetria, com mediana mais confiável que a média.  \n",
    "**2.** A progressão por experiência é clara: Júnior → Pleno → Sênior → Executivo.  \n",
    "\n",
    "---\n",
    "### ✅ Habilidades demonstradas neste projeto:\n",
    "- Limpeza e transformação de dados\n",
    "- Visualização com matplotlib e seaborn\n",
    "- Criação de versão bilíngue (PT/EN)\n",
    "- Storytelling com dados e insights técnicos\n",
    "\n",
    "---\n",
    "### 🚀 Próximos passos sugeridos:\n",
    "- Desenvolver um dashboard no Power BI usando esse mesmo dataset\n",
    "- Fazer análise por país, por porte da empresa e por tipo de contratação\n",
    "- Publicar no GitHub com README estruturado e imagens\n",
    "- Compartilhar no LinkedIn com post de destaque"
   ]
  }
 ],
 "metadata": {},
 "nbformat": 4,
 "nbformat_minor": 5
}